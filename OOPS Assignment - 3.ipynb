{
 "cells": [
  {
   "cell_type": "code",
   "execution_count": 101,
   "metadata": {},
   "outputs": [
    {
     "name": "stdout",
     "output_type": "stream",
     "text": [
      "Class A\n",
      "Class B\n",
      "Class C\n"
     ]
    }
   ],
   "source": [
    "#Method 2 With Super\n",
    "# Invoke function with same name in child class which also defined in two parents\n",
    "\n",
    "class A:\n",
    "    def __init__(self):\n",
    "        self.c=10\n",
    "    \n",
    "    def classname(self):\n",
    "        print('Class A')\n",
    "class B:\n",
    "    def __init__(self):\n",
    "        self.c=20\n",
    "    \n",
    "    def classname(self):\n",
    "        print('Class B')\n",
    "\n",
    "class C(A,B):\n",
    "    def __init__(self):\n",
    "        self.c=30\n",
    "    \n",
    "    def classname(self):\n",
    "        super(C,self).classname()\n",
    "        super(A,self).classname()\n",
    "        print('Class C')     \n",
    "    \n",
    "c=C()\n",
    "c.classname()"
   ]
  },
  {
   "cell_type": "code",
   "execution_count": 105,
   "metadata": {},
   "outputs": [
    {
     "name": "stdout",
     "output_type": "stream",
     "text": [
      "Class A\n",
      "Class B\n",
      "Class C\n"
     ]
    }
   ],
   "source": [
    "#Method 2 Without Super\n",
    "# Invoke function with same name in child class which also defined in two parents\n",
    "\n",
    "class A:\n",
    "    def __init__(self):\n",
    "        self.c=10\n",
    "    def classname(self):\n",
    "        print('Class A')\n",
    "        \n",
    "class B:\n",
    "    def __init__(self):\n",
    "        self.c=20 \n",
    "    def classname(self):\n",
    "        print('Class B')\n",
    "\n",
    "class C(A,B):\n",
    "    def __init__(self):\n",
    "        self.c=30  \n",
    "    def classname(self):\n",
    "        A.classname(self)\n",
    "        B.classname(self)\n",
    "        print('Class C')     \n",
    "    \n",
    "c=C()\n",
    "c.classname()"
   ]
  },
  {
   "cell_type": "code",
   "execution_count": null,
   "metadata": {},
   "outputs": [],
   "source": []
  }
 ],
 "metadata": {
  "kernelspec": {
   "display_name": "Python 3",
   "language": "python",
   "name": "python3"
  },
  "language_info": {
   "codemirror_mode": {
    "name": "ipython",
    "version": 3
   },
   "file_extension": ".py",
   "mimetype": "text/x-python",
   "name": "python",
   "nbconvert_exporter": "python",
   "pygments_lexer": "ipython3",
   "version": "3.6.4"
  }
 },
 "nbformat": 4,
 "nbformat_minor": 2
}
