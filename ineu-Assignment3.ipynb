{
 "cells": [
  {
   "cell_type": "code",
   "execution_count": 3,
   "metadata": {},
   "outputs": [
    {
     "name": "stdout",
     "output_type": "stream",
     "text": [
      "5\n",
      "0\n",
      "Enter the denominator other than zero:0\n",
      "Enter the denominator other than zero:2\n"
     ]
    },
    {
     "data": {
      "text/plain": [
       "2.5"
      ]
     },
     "execution_count": 3,
     "metadata": {},
     "output_type": "execute_result"
    }
   ],
   "source": [
    "# 1. Wrte a function to compute 5/0 with try/except\n",
    "\n",
    "def divide(n,m):\n",
    "        try:\n",
    "            print(n/m)\n",
    "        except:\n",
    "            while m==0:\n",
    "                m = int(input(\"Enter the denominator other than zero:\"))\n",
    "                continue\n",
    "        finally:\n",
    "            return n/m\n",
    "            \n",
    "\n",
    "num= int(input())\n",
    "den= int(input())\n",
    "divide(num,den)"
   ]
  },
  {
   "cell_type": "code",
   "execution_count": 4,
   "metadata": {},
   "outputs": [
    {
     "name": "stdout",
     "output_type": "stream",
     "text": [
      "Americans  play  Baseball\n",
      "Americans  play  Cricket\n",
      "Americans  watch  Baseball\n",
      "Americans  watch  Cricket\n",
      "Indians  play  Baseball\n",
      "Indians  play  Cricket\n",
      "Indians  watch  Baseball\n",
      "Indians  watch  Cricket\n"
     ]
    }
   ],
   "source": [
    "# 2. Implement program to generate all sentences from subjects, verb and objects list.\n",
    "\n",
    "subjects=['Americans','Indians']\n",
    "verb=['play','watch']\n",
    "objects = ['Baseball', 'Cricket']\n",
    "\n",
    "for i in subjects:\n",
    "    for j in verb:\n",
    "        for k in objects:\n",
    "            print(i,'',j,'',k)\n",
    "            "
   ]
  },
  {
   "cell_type": "code",
   "execution_count": 74,
   "metadata": {},
   "outputs": [
    {
     "name": "stdout",
     "output_type": "stream",
     "text": [
      "1 1 1 1 \n",
      "8 4 2 1 \n",
      "27 9 3 1 \n",
      "64 16 4 1 \n",
      "125 25 5 1 \n"
     ]
    }
   ],
   "source": [
    "# 3. Column of output matrix are powers of input vector\n",
    "def Matrix_Gen(vec, ls):\n",
    "    #gen one dim list of all powers\n",
    "    b= [i**j for i in ls for j in range(vec)]\n",
    "    \n",
    "    # gen 2 Dim list based on power number\n",
    "    c= [ b[j:j+vec] for j in range(0,len(b),vec)]\n",
    "   \n",
    "    #print in reverse order\n",
    "    for i in range(len(c)):\n",
    "        for j in range(len(c[i]),0,-1):\n",
    "            print(c[i][j-1], end=' ')\n",
    "        print()\n",
    "\n",
    "        \n",
    "#Matrix_Gen(3,[1,2,3,4])\n",
    "Matrix_Gen(4,[1,2,3,4,5])\n",
    "        \n",
    "\n",
    "        "
   ]
  },
  {
   "cell_type": "code",
   "execution_count": null,
   "metadata": {},
   "outputs": [],
   "source": []
  }
 ],
 "metadata": {
  "kernelspec": {
   "display_name": "Python 3",
   "language": "python",
   "name": "python3"
  },
  "language_info": {
   "codemirror_mode": {
    "name": "ipython",
    "version": 3
   },
   "file_extension": ".py",
   "mimetype": "text/x-python",
   "name": "python",
   "nbconvert_exporter": "python",
   "pygments_lexer": "ipython3",
   "version": "3.6.4"
  }
 },
 "nbformat": 4,
 "nbformat_minor": 2
}
