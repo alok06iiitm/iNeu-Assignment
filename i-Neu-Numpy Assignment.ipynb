{
 "cells": [
  {
   "cell_type": "code",
   "execution_count": 39,
   "metadata": {},
   "outputs": [
    {
     "data": {
      "text/plain": [
       "array([[  1,   1,   1,   1,   1],\n",
       "       [ 16,   8,   4,   2,   1],\n",
       "       [ 81,  27,   9,   3,   1],\n",
       "       [625, 125,  25,   5,   1]])"
      ]
     },
     "execution_count": 39,
     "metadata": {},
     "output_type": "execute_result"
    }
   ],
   "source": [
    "# Alexandre Theophile Vandermonde Matrix using numpy\n",
    "\n",
    "import numpy as np\n",
    "x= np.array([1,2,3,5])\n",
    "N=5\n",
    "np.vander(x, N)"
   ]
  },
  {
   "cell_type": "code",
   "execution_count": 38,
   "metadata": {},
   "outputs": [
    {
     "name": "stdout",
     "output_type": "stream",
     "text": [
      "y1 5.0\n",
      "y2 4.67\n",
      "y3 5.67\n",
      "y4 6.67\n",
      "y5 9.67\n",
      "y6 28.67\n",
      "y7 49.33\n",
      "y8 72.67\n",
      "y9 84.0\n",
      "y10 93.33\n",
      "y11 116.33\n"
     ]
    }
   ],
   "source": [
    "# Q2 Moving Average sequence on below sequence with window size = 3\n",
    "\n",
    "def running_avg_seq(window, a):\n",
    "    for k in range(len(a)-window+1):\n",
    "        num= (a[k]+a[k+1]+a[k+2])/window\n",
    "        print('y',k+1,' ',round(num,2),sep='') \n",
    "\n",
    "ls= np.array([3,5,7,2,8,10,11,65,72,81,99,100,150])\n",
    "        \n",
    "running_avg_seq(3,ls)\n"
   ]
  },
  {
   "cell_type": "code",
   "execution_count": null,
   "metadata": {},
   "outputs": [],
   "source": []
  }
 ],
 "metadata": {
  "kernelspec": {
   "display_name": "Python 3",
   "language": "python",
   "name": "python3"
  },
  "language_info": {
   "codemirror_mode": {
    "name": "ipython",
    "version": 3
   },
   "file_extension": ".py",
   "mimetype": "text/x-python",
   "name": "python",
   "nbconvert_exporter": "python",
   "pygments_lexer": "ipython3",
   "version": "3.6.4"
  }
 },
 "nbformat": 4,
 "nbformat_minor": 2
}
