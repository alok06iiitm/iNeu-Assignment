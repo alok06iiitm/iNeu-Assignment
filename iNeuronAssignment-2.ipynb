{
 "cells": [
  {
   "cell_type": "code",
   "execution_count": 31,
   "metadata": {},
   "outputs": [
    {
     "data": {
      "text/plain": [
       "24"
      ]
     },
     "execution_count": 31,
     "metadata": {},
     "output_type": "execute_result"
    }
   ],
   "source": [
    "#1.1 python program to implement my own reduce() function\n",
    "\n",
    "def myreduce(func,ls):\n",
    "    res=ls[0]\n",
    "    for i in ls[1:]:\n",
    "        res = func(res, i) \n",
    "    return res\n",
    "        \n",
    "su = lambda a,b: a*b\n",
    "myreduce(su, [1,2,3,4])\n"
   ]
  },
  {
   "cell_type": "code",
   "execution_count": 37,
   "metadata": {},
   "outputs": [
    {
     "data": {
      "text/plain": [
       "[1, 3, 5, 7, 9, 11, 13, 15, 17, 19, 21, 23, 25, 27, 29]"
      ]
     },
     "execution_count": 37,
     "metadata": {},
     "output_type": "execute_result"
    }
   ],
   "source": [
    "#1.2. python program to implement my own filter() function\n",
    "\n",
    "def myfilter(func,ls):\n",
    "    result=[]\n",
    "    for i in ls:\n",
    "        res = func(i) \n",
    "        if res == True:\n",
    "            result.append(i)\n",
    "    return result\n",
    "            \n",
    "        \n",
    "s = lambda a: a%2!=0\n",
    "myfilter(s, range(30))\n"
   ]
  },
  {
   "cell_type": "code",
   "execution_count": 116,
   "metadata": {},
   "outputs": [
    {
     "name": "stdout",
     "output_type": "stream",
     "text": [
      "['A', 'C', 'A', 'D', 'G', 'I', 'L', 'D']\n",
      "['x', 'xx', 'xxx', 'xxxx', 'y', 'yy', 'yyy', 'yyyy', 'z', 'zz', 'zzz', 'zzzz']\n",
      "[[2], [3], [4], [3], [4], [5], [4], [5], [6]]\n",
      "[[2, 3, 4, 5], [3, 4, 5, 6], [4, 5, 6, 7], [5, 6, 7, 8]]\n",
      "[(1, 1), (2, 1), (3, 1), (1, 2), (2, 2), (3, 2), (1, 3), (2, 3), (3, 3)]\n"
     ]
    }
   ],
   "source": [
    "# 2. Write list comprenshensions to produce following lists\n",
    "\n",
    "st1 = [s for s in 'ACADGILD']\n",
    "print(st1)\n",
    "\n",
    "st2 = [i * s for s in 'xyz' for i in range(1,5) ]\n",
    "print(st2)\n",
    "\n",
    "st3 = [ [i+j] for i in range(2,5) for j in range(3)]\n",
    "print(st3)\n",
    "\n",
    "st4 = [[i+j for i in range(2,6)] for j in range(4)]\n",
    "print(st4)\n",
    "\n",
    "st5 = [(j,i) for i in range(1,4) for j in range (1,4)]\n",
    "print(st5)"
   ]
  },
  {
   "cell_type": "code",
   "execution_count": 202,
   "metadata": {},
   "outputs": [
    {
     "name": "stdout",
     "output_type": "stream",
     "text": [
      "Yashowardhan\n",
      "Encyclopedia\n"
     ]
    }
   ],
   "source": [
    "# 3. Longest Word function which accepts list of word and return longest word in list \n",
    "# if there are multiple longest words of same length, display all longest word\n",
    "\n",
    "def LongestWord(lst):\n",
    "    longword=lst[0]\n",
    "    for i in lst[1:]:\n",
    "        if len(i) > len(longword):\n",
    "            longword = i\n",
    "        elif len(i) == len(longword):\n",
    "            longword = longword + '\\n'+ i\n",
    "\n",
    "    return longword\n",
    "\n",
    "list1=['Alok','Yashowardhan','Amit','India','Canada','Russia','Encyclopedia']\n",
    "print(LongestWord(list1))\n",
    "                "
   ]
  },
  {
   "cell_type": "code",
   "execution_count": 181,
   "metadata": {},
   "outputs": [
    {
     "name": "stdout",
     "output_type": "stream",
     "text": [
      "Enter the first side:12\n",
      "Enter the Second side:13\n",
      "Enter the Third side:14\n",
      "The area of the triangle is 72.307935\n"
     ]
    }
   ],
   "source": [
    "# TASK 2:\n",
    "#1.1 Python program with class concepts  to find the area of traingle.\n",
    "# function to take input from user should be defined in parent class and function to calculate area in subclass\n",
    "\n",
    "class Shape:\n",
    "\n",
    "    def sides(self):\n",
    "        self.a = float(input('Enter the first side:'))\n",
    "        self.b = float(input('Enter the Second side:'))\n",
    "        self.c = float(input('Enter the Third side:'))\n",
    "        return self.a,self.b,self.c\n",
    "\n",
    "        \n",
    "class Triangle(Shape):\n",
    "    \n",
    "    def area(self):\n",
    "        a,b,c=self.sides()\n",
    "        s=(a+b+c)/2\n",
    "        area = (s*(s-a)*(s-b)*(s-c))**0.5\n",
    "        print('The area of the triangle is %f' %area)\n",
    "    \n",
    "t=Triangle()\n",
    "t.area()"
   ]
  },
  {
   "cell_type": "code",
   "execution_count": 187,
   "metadata": {},
   "outputs": [
    {
     "name": "stdout",
     "output_type": "stream",
     "text": [
      "['abcd', 'aerfg', 'aessdffd']\n",
      "['aerfg', 'aessdffd', 'wedded']\n"
     ]
    }
   ],
   "source": [
    "#TASK 2 1.2 Take list of word and n and return list of words that are greater than n\n",
    "\n",
    "def filter_long_words(ls,n):\n",
    "    return [i for i in ls if len(i)> n]\n",
    " \n",
    " \n",
    "print(filter_long_words(['abcd','acd','ade','aerfg','aessdffd'],3))\n",
    "print(filter_long_words(['abcd','acd','ade','aerfg','aessdffd','wedded'],4))\n"
   ]
  },
  {
   "cell_type": "code",
   "execution_count": 186,
   "metadata": {},
   "outputs": [
    {
     "name": "stdout",
     "output_type": "stream",
     "text": [
      "[4, 3, 3, 5, 8, 6]\n"
     ]
    }
   ],
   "source": [
    "# Task 2.1 Function that maps list of words into list of integers representing length of words.\n",
    "\n",
    "def length_of_words(ls):\n",
    "    return [len(i) for i in ls]\n",
    "\n",
    "print(length_of_words(['abcd','acd','ade','aerfg','aessdffd','wedded']))"
   ]
  },
  {
   "cell_type": "code",
   "execution_count": 201,
   "metadata": {},
   "outputs": [
    {
     "name": "stdout",
     "output_type": "stream",
     "text": [
      "Enter a character of length 1\n",
      "True\n",
      "False\n"
     ]
    }
   ],
   "source": [
    "# Task 2.2 Function which takes a character and return true if it vowel else false.\n",
    "\n",
    "def vowel_check(s):\n",
    "    if len(s) !=1:\n",
    "        print('Enter a character of length 1')\n",
    "    elif s.upper() in ['A','E','I','O','U']:\n",
    "        print(True)\n",
    "    else:\n",
    "        print(False)\n",
    "        \n",
    "vowel_check('def')\n",
    "vowel_check('o')\n",
    "vowel_check('z')\n",
    "    "
   ]
  },
  {
   "cell_type": "code",
   "execution_count": null,
   "metadata": {},
   "outputs": [],
   "source": []
  }
 ],
 "metadata": {
  "kernelspec": {
   "display_name": "Python 3",
   "language": "python",
   "name": "python3"
  },
  "language_info": {
   "codemirror_mode": {
    "name": "ipython",
    "version": 3
   },
   "file_extension": ".py",
   "mimetype": "text/x-python",
   "name": "python",
   "nbconvert_exporter": "python",
   "pygments_lexer": "ipython3",
   "version": "3.6.4"
  }
 },
 "nbformat": 4,
 "nbformat_minor": 2
}
